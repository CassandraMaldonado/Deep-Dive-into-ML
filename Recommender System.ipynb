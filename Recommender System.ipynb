{
 "cells": [
  {
   "cell_type": "markdown",
   "metadata": {},
   "source": [
    "# Assignment 5 Recommender System and NN with numpy"
   ]
  },
  {
   "cell_type": "markdown",
   "metadata": {},
   "source": [
    "## 1. Collaborative Filtering"
   ]
  },
  {
   "cell_type": "markdown",
   "metadata": {},
   "source": [
    "Use this user-item matrix to:\n",
    "\n",
    "A. Recommend 10 songs to users who have listened to 'u2' and 'pink floyd'. Use item-item collaborative filtering to find songs that are similar using spatial distance with cosine. Since this measures the distance you need to subtract from 1 to get similarity as shown below.\n",
    "\n",
    "from scipy.spatial.distance import cosine\n",
    "\n",
    "similarity = 1 - cosine(item1, item2)."
   ]
  },
  {
   "cell_type": "markdown",
   "metadata": {},
   "source": [
    "B. Find user most similar to user 1606. Use user-user collaborative filtering with cosine similarity. List the recommended songs for user 1606 (Hint: find the songs listened to by the most similar user)."
   ]
  },
  {
   "cell_type": "markdown",
   "metadata": {},
   "source": [
    "C. How many of the recommended songs has already been listened to by user 1606?"
   ]
  },
  {
   "cell_type": "markdown",
   "metadata": {},
   "source": [
    "D. Use a combination of user-item approach to build a recommendation score for each song for each user using the following steps for each user-\n",
    "\n",
    "1. For each song for the user row, get the top 10 similar songs and their similarity score.\n",
    "2. For each of the top 10 similar songs, get a list of the user purchases.\n",
    "3. Calculate a recommendation score as follows: sum(purchasehistory*similarityscore)/ sum(similarityscore).\n",
    "4. What are the top 5 song recommendations for user 1606?"
   ]
  },
  {
   "cell_type": "markdown",
   "metadata": {},
   "source": [
    "## 2. Conceptual questions"
   ]
  },
  {
   "cell_type": "markdown",
   "metadata": {},
   "source": [
    "1. Name 2 other similarity measures that you can use instead of cosine similarity above."
   ]
  },
  {
   "cell_type": "markdown",
   "metadata": {},
   "source": [
    "2. What is needed to build a Content-Based Recommender system?"
   ]
  },
  {
   "cell_type": "markdown",
   "metadata": {},
   "source": [
    "3. Name 2 methods to evaluate your recommender system."
   ]
  }
 ],
 "metadata": {
  "language_info": {
   "name": "python"
  }
 },
 "nbformat": 4,
 "nbformat_minor": 2
}
