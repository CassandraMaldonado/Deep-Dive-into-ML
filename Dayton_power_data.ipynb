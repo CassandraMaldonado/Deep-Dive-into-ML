{
 "cells": [
  {
   "cell_type": "markdown",
   "metadata": {},
   "source": [
    "# Time Series with LSTMs"
   ]
  },
  {
   "cell_type": "markdown",
   "metadata": {},
   "source": [
    "Cassandra Maldonado"
   ]
  },
  {
   "cell_type": "markdown",
   "metadata": {},
   "source": [
    "1. Import, clean and plot the input data."
   ]
  },
  {
   "cell_type": "code",
   "execution_count": null,
   "metadata": {
    "vscode": {
     "languageId": "plaintext"
    }
   },
   "outputs": [],
   "source": [
    "import numpy as np\n",
    "import pandas as pd\n",
    "import matplotlib.pyplot as plt\n",
    "from tensorflow.keras.models import Sequential\n",
    "from tensorflow.keras.layers import LSTM, Dense, Bidirectional\n",
    "import tensorflow as tf\n",
    "import os\n",
    "from helper import timeseries_train_test_split"
   ]
  },
  {
   "cell_type": "code",
   "execution_count": null,
   "metadata": {
    "vscode": {
     "languageId": "plaintext"
    }
   },
   "outputs": [],
   "source": [
    "np.random.seed(42)\n",
    "tf.random.set_seed(42)"
   ]
  },
  {
   "cell_type": "code",
   "execution_count": null,
   "metadata": {
    "vscode": {
     "languageId": "plaintext"
    }
   },
   "outputs": [],
   "source": [
    "def import_and_clean_data(filename='DAYTON_hourly.csv'):\n",
    "    df = pd.read_csv(filename)\n",
    "    \n",
    "    # Datetime format\n",
    "    df['Datetime'] = pd.to_datetime(df['Datetime'])\n",
    "    \n",
    "    # Index\n",
    "    df.set_index('Datetime', inplace=True)\n",
    "    \n",
    "    # Checking for missing values\n",
    "    print(f\"Missing values: {df.isna().sum()}\")\n",
    "    \n",
    "    # Time series plot\n",
    "    plt.figure(figsize=(14, 6))\n",
    "    plt.plot(df['DAYTON_MW'])\n",
    "    plt.title('Dayton Power Consumption (MW)')\n",
    "    plt.xlabel('Date')\n",
    "    plt.ylabel('Power (MW)')\n",
    "    plt.grid(True)\n",
    "    plt.tight_layout()\n",
    "    plt.show()\n",
    "    \n",
    "    return df\n",
    "\n",
    "# LSTM sequence\n",
    "def create_sequences(data, seq_length):\n",
    "    X, y = [], []\n",
    "    for i in range(len(data) - seq_length):\n",
    "        X.append(data[i:i+seq_length])\n",
    "        y.append(data[i+seq_length])\n",
    "    return np.array(X), np.array(y)\n",
    "\n",
    "# LSTM model\n",
    "def build_and_train_lstm(X_train, y_train, X_test, y_test, bidirectional=False, epochs=50, batch_size=32):\n",
    "    # Reshape input data for LSTM [samples, time steps, features]\n",
    "    X_train = X_train.reshape(X_train.shape[0], X_train.shape[1], 1)\n",
    "    X_test = X_test.reshape(X_test.shape[0], X_test.shape[1], 1)\n",
    "    \n",
    "    model = Sequential()\n",
    "    \n",
    "    if bidirectional:\n",
    "        model.add(Bidirectional(LSTM(50, activation='relu'), input_shape=(X_train.shape[1], 1)))\n",
    "    else:\n",
    "        model.add(LSTM(50, activation='relu', input_shape=(X_train.shape[1], 1)))\n",
    "    \n",
    "    model.add(Dense(1))\n",
    "    \n",
    "    model.compile(optimizer='adam', loss='mse')\n",
    "    \n",
    "    # Training \n",
    "    history = model.fit(\n",
    "        X_train, y_train,\n",
    "        epochs=epochs,\n",
    "        batch_size=batch_size,\n",
    "        validation_data=(X_test, y_test),\n",
    "        verbose=1\n",
    "    )\n",
    "    \n",
    "    # Predicting\n",
    "    train_predictions = model.predict(X_train)\n",
    "    test_predictions = model.predict(X_test)\n",
    "    \n",
    "    # RMSE\n",
    "    train_rmse = np.sqrt(np.mean((train_predictions - y_train) ** 2))\n",
    "    test_rmse = np.sqrt(np.mean((test_predictions - y_test) ** 2))\n",
    "    \n",
    "    print(f\"Train RMSE: {train_rmse:.2f}\")\n",
    "    print(f\"Test RMSE: {test_rmse:.2f}\")\n",
    "    \n",
    "    return model, history, test_predictions, test_rmse\n",
    "\n",
    "# Model predictions\n",
    "def plot_predictions(y_test, predictions, title):\n",
    "    plt.figure(figsize=(14, 6))\n",
    "    plt.plot(y_test, label='Actual')\n",
    "    plt.plot(predictions, label='Predicted')\n",
    "    plt.title(title)\n",
    "    plt.xlabel('Time Step')\n",
    "    plt.ylabel('Power (MW)')\n",
    "    plt.legend()\n",
    "    plt.grid(True)\n",
    "    plt.tight_layout()\n",
    "    plt.show()\n",
    "\n",
    "def main():\n",
    "    # 1. Import and clean the data\n",
    "    df = import_and_clean_data()\n",
    "    \n",
    "    # Extract the target column\n",
    "    data = df['DAYTON_MW'].values\n"
   ]
  },
  {
   "cell_type": "markdown",
   "metadata": {},
   "source": [
    "2. Train test split (use provided helper function helper.py Download helper.py, as we can’t use sklearn’s for time series data)."
   ]
  },
  {
   "cell_type": "code",
   "execution_count": null,
   "metadata": {
    "vscode": {
     "languageId": "plaintext"
    }
   },
   "outputs": [],
   "source": [
    "train_size = int(len(data) * 0.8)\n",
    "    train_data, test_data = timeseries_train_test_split(data, train_size)\n",
    "    \n",
    "    print(f\"Training data size: {len(train_data)}\")\n",
    "    print(f\"Testing data size: {len(test_data)}\")"
   ]
  },
  {
   "cell_type": "markdown",
   "metadata": {},
   "source": [
    "3. Fit a single layer LSTM with lag = 3 hours."
   ]
  },
  {
   "cell_type": "code",
   "execution_count": null,
   "metadata": {
    "vscode": {
     "languageId": "plaintext"
    }
   },
   "outputs": [],
   "source": [
    "print(\"Single Layer LSTM with lag = 3 hours\")\n",
    "    lag_3 = 3\n",
    "    X_train_3, y_train_3 = create_sequences(train_data, lag_3)\n",
    "    X_test_3, y_test_3 = create_sequences(test_data, lag_3)\n",
    "    \n",
    "    model_3, history_3, predictions_3, rmse_3 = build_and_train_lstm(\n",
    "        X_train_3, y_train_3, X_test_3, y_test_3\n",
    "    )\n",
    "    \n",
    "plot_predictions(y_test_3, predictions_3, 'Single Layer LSTM (lag=3) Predictions')"
   ]
  },
  {
   "cell_type": "markdown",
   "metadata": {},
   "source": [
    "4. Fit a single layer LSTM with lag = 24 hours."
   ]
  },
  {
   "cell_type": "code",
   "execution_count": null,
   "metadata": {
    "vscode": {
     "languageId": "plaintext"
    }
   },
   "outputs": [],
   "source": [
    "print(\"Single Layer LSTM with lag = 24 hours\")\n",
    "    lag_24 = 24\n",
    "    X_train_24, y_train_24 = create_sequences(train_data, lag_24)\n",
    "    X_test_24, y_test_24 = create_sequences(test_data, lag_24)\n",
    "    \n",
    "    model_24, history_24, predictions_24, rmse_24 = build_and_train_lstm(\n",
    "        X_train_24, y_train_24, X_test_24, y_test_24\n",
    "    )\n",
    "    \n",
    "plot_predictions(y_test_24, predictions_24, 'Single Layer LSTM (lag=24) Predictions')"
   ]
  },
  {
   "cell_type": "markdown",
   "metadata": {},
   "source": [
    "5. Fit a bidirectional LSTM with lag = 24 hours."
   ]
  },
  {
   "cell_type": "code",
   "execution_count": null,
   "metadata": {
    "vscode": {
     "languageId": "plaintext"
    }
   },
   "outputs": [],
   "source": [
    "print(\"\\n=== Bidirectional LSTM with lag = 24 hours ===\")\n",
    "    model_bi, history_bi, predictions_bi, rmse_bi = build_and_train_lstm(\n",
    "        X_train_24, y_train_24, X_test_24, y_test_24, bidirectional=True\n",
    "    )\n",
    "    \n",
    "plot_predictions(y_test_24, predictions_bi, 'Bidirectional LSTM (lag=24) Predictions')"
   ]
  },
  {
   "cell_type": "markdown",
   "metadata": {},
   "source": [
    "6. Plot results on test set and compare performance using RMSE."
   ]
  },
  {
   "cell_type": "code",
   "execution_count": null,
   "metadata": {
    "vscode": {
     "languageId": "plaintext"
    }
   },
   "outputs": [],
   "source": [
    "print(\"\\n=== Performance Comparison (RMSE) ===\")\n",
    "print(f\"Single Layer LSTM (lag=3): {rmse_3:.2f}\")\n",
    "print(f\"Single Layer LSTM (lag=24): {rmse_24:.2f}\")\n",
    "print(f\"Bidirectional LSTM (lag=24): {rmse_bi:.2f}\")\n",
    "    \n",
    "# Plot comparison\n",
    "plt.figure(figsize=(14, 6))\n",
    "plt.plot(y_test_24, label='Actual')\n",
    "plt.plot(predictions_24, label='Single Layer LSTM (lag=24)')\n",
    "plt.plot(predictions_bi, label='Bidirectional LSTM (lag=24)')\n",
    "plt.title('Model Comparison on Test Set')\n",
    "plt.xlabel('Time Step')\n",
    "plt.ylabel('Power (MW)')\n",
    "plt.legend()\n",
    "plt.grid(True)\n",
    "plt.tight_layout()\n",
    "plt.show()\n",
    "\n",
    "if __name__ == \"__main__\":\n",
    "    main()"
   ]
  }
 ],
 "metadata": {
  "language_info": {
   "name": "python"
  }
 },
 "nbformat": 4,
 "nbformat_minor": 2
}
