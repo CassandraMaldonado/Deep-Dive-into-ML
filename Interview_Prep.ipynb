{
 "cells": [
  {
   "cell_type": "markdown",
   "metadata": {},
   "source": [
    "Please answer completely all four required questions (250 Points)."
   ]
  },
  {
   "cell_type": "markdown",
   "metadata": {},
   "source": [
    "### Question 1: Load (50 Points)"
   ]
  },
  {
   "cell_type": "markdown",
   "metadata": {},
   "source": [
    "- Programmatically download and load into your favorite analytical tool the transactions data. This data, which is in line-delimited JSON format, can be found as transactions.txt (above attached)\n",
    "\n",
    "- Please describe the structure of the data. Number of records and fields in each record?\n",
    "\n",
    "- Please provide some additional basic summary statistics for each field. Be sure to include a count of null, minimum, maximum, and unique values where appropriate."
   ]
  },
  {
   "cell_type": "code",
   "execution_count": 1,
   "metadata": {},
   "outputs": [],
   "source": [
    "import pandas as pd\n",
    "import json\n",
    "import matplotlib.pyplot as plt\n",
    "import numpy as np"
   ]
  },
  {
   "cell_type": "code",
   "execution_count": null,
   "metadata": {},
   "outputs": [],
   "source": [
    "df = pd.read_json('transactions.txt', lines=True)"
   ]
  },
  {
   "cell_type": "code",
   "execution_count": null,
   "metadata": {},
   "outputs": [],
   "source": [
    "num_records = len(df)\n",
    "print(f\"Number of records: {num_records}\")"
   ]
  },
  {
   "cell_type": "code",
   "execution_count": null,
   "metadata": {},
   "outputs": [],
   "source": [
    "num_fields = len(df.columns)\n",
    "print(f\"Number of fields in each record: {num_fields}\")\n",
    "print(f\"Fields: {', '.join(df.columns)}\")"
   ]
  },
  {
   "cell_type": "markdown",
   "metadata": {},
   "source": [
    "### Question 2: Plot (25 Points)\n",
    "\n",
    "- Plot a histogram of the processed amounts of each transaction, the transactionAmount column.\n",
    "\n",
    "- Report any structure you find and any hypotheses you have about that structure."
   ]
  },
  {
   "cell_type": "markdown",
   "metadata": {},
   "source": [
    "### Question 3: Data Wrangling - Duplicate Transactions (75 Points)\n",
    "\n",
    "You will notice a number of what look like duplicated transactions in the data set. One type of duplicated transaction is a reversed transaction, where a purchase is followed by a reversal. Another example is a multi-swipe, where a vendor accidentally charges a customer's card multiple times within a short time span.\n",
    "\n",
    "- Can you programmatically identify reversed and multi-swipe transactions?\n",
    "\n",
    "- What total number of transactions and total dollar amount do you estimate for the reversed transactions? For the multi-swipe transactions? (please consider the first transaction to be \"normal\" and exclude it from the number of transaction and dollar amount counts).\n",
    "\n",
    "- Did you find anything interesting about either kind of transaction?\n"
   ]
  },
  {
   "cell_type": "markdown",
   "metadata": {},
   "source": [
    "### Question 4: Model (100 Points)\n",
    "\n",
    "Fraud is a problem for any bank. Fraud can take many forms, whether it is someone stealing a single credit card, to large batches of stolen credit card numbers being used on the web, or even a mass compromise of credit card numbers stolen from a merchant via tools like credit card skimming devices.\n",
    "\n",
    "- Each of the transactions in the dataset has a field called isFraud. Please build a machine learning model to determine whether a given transaction will be fraudulent or not. Use as much of the data as you like (or all of it).\n",
    "\n",
    "- Provide an estimate of performance using an appropriate sample, and show your work.\n",
    "\n",
    "- Please explain your methodology (modeling algorithm/method used and why, what features/data you found useful, what questions you have, and what you would do next with more time)."
   ]
  }
 ],
 "metadata": {
  "kernelspec": {
   "display_name": "base",
   "language": "python",
   "name": "python3"
  },
  "language_info": {
   "codemirror_mode": {
    "name": "ipython",
    "version": 3
   },
   "file_extension": ".py",
   "mimetype": "text/x-python",
   "name": "python",
   "nbconvert_exporter": "python",
   "pygments_lexer": "ipython3",
   "version": "3.12.2"
  }
 },
 "nbformat": 4,
 "nbformat_minor": 2
}
