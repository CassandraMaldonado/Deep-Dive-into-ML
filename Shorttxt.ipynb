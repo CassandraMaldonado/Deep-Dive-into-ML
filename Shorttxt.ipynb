{
 "cells": [
  {
   "cell_type": "code",
   "execution_count": 1,
   "metadata": {},
   "outputs": [],
   "source": [
    "import json\n",
    "import os\n",
    "import random\n",
    "import argparse\n",
    "from tqdm import tqdm  # Optional, for progress bar"
   ]
  },
  {
   "cell_type": "code",
   "execution_count": 3,
   "metadata": {},
   "outputs": [],
   "source": [
    "def reduce_file_size(input_file, output_file, method='both', target_size_mb=10, \n",
    "                     sampling_rate=None, fields_to_keep=None):\n",
    "    \"\"\"\n",
    "    Reduce the size of a large JSON file using various methods.\n",
    "    \n",
    "    Args:\n",
    "        input_file: Path to the input file\n",
    "        output_file: Path to save the reduced file\n",
    "        method: 'sampling', 'fields', or 'both'\n",
    "        target_size_mb: Target file size in MB\n",
    "        sampling_rate: Keep only this fraction of records (0.0-1.0)\n",
    "        fields_to_keep: List of fields to retain in each record\n",
    "    \"\"\"\n",
    "    # Default fields to keep if none specified\n",
    "    if fields_to_keep is None:\n",
    "        fields_to_keep = [\n",
    "            'accountNumber', \n",
    "            'transactionDateTime', \n",
    "            'transactionAmount', \n",
    "            'merchantName',\n",
    "            'merchantCategoryCode',\n",
    "            'isFraud'\n",
    "        ]\n",
    "    \n",
    "    # Calculate file size and adjust sampling rate if needed\n",
    "    original_size = os.path.getsize(input_file)\n",
    "    original_size_mb = original_size / (1024 * 1024)\n",
    "    print(f\"Original file size: {original_size_mb:.2f} MB\")\n",
    "    \n",
    "    # If sampling rate not provided, calculate based on target size\n",
    "    if sampling_rate is None:\n",
    "        target_ratio = target_size_mb / original_size_mb\n",
    "        sampling_rate = min(1.0, target_ratio)\n",
    "        print(f\"Calculated sampling rate: {sampling_rate:.4f}\")\n",
    "    \n",
    "    # Count lines in input file for progress tracking\n",
    "    line_count = 0\n",
    "    with open(input_file, 'r') as f:\n",
    "        for _ in f:\n",
    "            line_count += 1\n",
    "    \n",
    "    # Process the file\n",
    "    lines_written = 0\n",
    "    with open(input_file, 'r') as infile, open(output_file, 'w') as outfile:\n",
    "        for line in tqdm(infile, total=line_count, desc=\"Processing\"):\n",
    "            line = line.strip()\n",
    "            if not line:\n",
    "                continue\n",
    "                \n",
    "            try:\n",
    "                # Apply sampling if needed\n",
    "                keep_record = True\n",
    "                if method in ['sampling', 'both']:\n",
    "                    keep_record = random.random() < sampling_rate\n",
    "                \n",
    "                if keep_record:\n",
    "                    # Apply field reduction if needed\n",
    "                    if method in ['fields', 'both']:\n",
    "                        record = json.loads(line)\n",
    "                        reduced_record = {k: record[k] for k in fields_to_keep if k in record}\n",
    "                        output_line = json.dumps(reduced_record)\n",
    "                    else:\n",
    "                        output_line = line\n",
    "                        \n",
    "                    outfile.write(output_line + '\\n')\n",
    "                    lines_written += 1\n",
    "                    \n",
    "            except json.JSONDecodeError:\n",
    "                print(f\"Error parsing JSON: {line[:50]}...\")\n",
    "            except Exception as e:\n",
    "                print(f\"Error processing line: {str(e)}\")\n",
    "    \n",
    "    # Calculate results\n",
    "    result_size = os.path.getsize(output_file)\n",
    "    result_size_mb = result_size / (1024 * 1024)\n",
    "    \n",
    "    print(\"\\nReduction complete!\")\n",
    "    print(f\"Records processed: {line_count}\")\n",
    "    print(f\"Records in output: {lines_written}\")\n",
    "    print(f\"Original size: {original_size_mb:.2f} MB\")\n",
    "    print(f\"Reduced size: {result_size_mb:.2f} MB\")\n",
    "    print(f\"Reduction ratio: {(result_size_mb / original_size_mb):.4f}\")"
   ]
  },
  {
   "cell_type": "code",
   "execution_count": 8,
   "metadata": {},
   "outputs": [
    {
     "name": "stdout",
     "output_type": "stream",
     "text": [
      "Original file size: 581.68 MB\n",
      "Calculated sampling rate: 0.0172\n"
     ]
    },
    {
     "name": "stderr",
     "output_type": "stream",
     "text": [
      "Processing: 100%|██████████| 786363/786363 [00:00<00:00, 1983551.51it/s]"
     ]
    },
    {
     "name": "stdout",
     "output_type": "stream",
     "text": [
      "\n",
      "Reduction complete!\n",
      "Records processed: 786363\n",
      "Records in output: 13461\n",
      "Original size: 581.68 MB\n",
      "Reduced size: 2.51 MB\n",
      "Reduction ratio: 0.0043\n"
     ]
    },
    {
     "name": "stderr",
     "output_type": "stream",
     "text": [
      "\n"
     ]
    }
   ],
   "source": [
    "# Use the transactions.txt file as input to apply the function\n",
    "input_file = \"transactions.txt\"\n",
    "output_file = \"reduced_transactions.txt\"\n",
    "method = \"both\"\n",
    "target_size_mb = 10.0\n",
    "sampling_rate = None\n",
    "fields_to_keep = None  # Use default fields\n",
    "\n",
    "reduce_file_size(input_file, output_file, method, target_size_mb, sampling_rate, fields_to_keep)\n"
   ]
  }
 ],
 "metadata": {
  "kernelspec": {
   "display_name": "base",
   "language": "python",
   "name": "python3"
  },
  "language_info": {
   "codemirror_mode": {
    "name": "ipython",
    "version": 3
   },
   "file_extension": ".py",
   "mimetype": "text/x-python",
   "name": "python",
   "nbconvert_exporter": "python",
   "pygments_lexer": "ipython3",
   "version": "3.12.2"
  }
 },
 "nbformat": 4,
 "nbformat_minor": 2
}
