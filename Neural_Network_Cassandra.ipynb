{
 "cells": [
  {
   "cell_type": "code",
   "execution_count": 1,
   "metadata": {},
   "outputs": [],
   "source": [
    "from sklearn.datasets import make_gaussian_quantiles #Generate isotropic Gaussian and label samples by quantile\n",
    "import matplotlib.pyplot as plt\n",
    "\n",
    "samples = 2\n",
    "def load_extra_datasets(N):\n",
    "    gaussian_quantiles = make_gaussian_quantiles(mean=None,\n",
    "                        cov=0.7,\n",
    "                        n_samples=N,\n",
    "                        n_features=2,\n",
    "                        n_classes=2,\n",
    "                        shuffle=True,\n",
    "                        random_state=None)\n",
    "    return gaussian_quantiles\n",
    "\n",
    "gaussian_quantiles= load_extra_datasets(samples)\n",
    "\n",
    "X, Y = gaussian_quantiles\n",
    "\n",
    "X, Y = X.T, Y.reshape(1, Y.shape[0])"
   ]
  },
  {
   "cell_type": "code",
   "execution_count": 2,
   "metadata": {},
   "outputs": [
    {
     "name": "stdout",
     "output_type": "stream",
     "text": [
      "[[1 0]]\n"
     ]
    },
    {
     "data": {
      "image/png": "[encoded data removed]",
      "text/plain": [
       "<Figure size 640x480 with 1 Axes>"
      ]
     },
     "metadata": {},
     "output_type": "display_data"
    }
   ],
   "source": [
    "print(Y)\n",
    "\n",
    "plt.scatter(X[0, :], X[1, :], c=Y, s=40);\n",
    "plt.show()"
   ]
  },
  {
   "cell_type": "code",
   "execution_count": 3,
   "metadata": {},
   "outputs": [
    {
     "data": {
      "text/plain": [
       "array([[-0.72315139,  0.16798413],\n",
       "       [ 1.27936128,  0.25449874]])"
      ]
     },
     "execution_count": 3,
     "metadata": {},
     "output_type": "execute_result"
    }
   ],
   "source": [
    "X"
   ]
  },
  {
   "cell_type": "code",
   "execution_count": 4,
   "metadata": {},
   "outputs": [
    {
     "data": {
      "image/png": "[encoded data removed]",
      "text/plain": [
       "<Figure size 640x480 with 1 Axes>"
      ]
     },
     "metadata": {},
     "output_type": "display_data"
    }
   ],
   "source": [
    "plt.scatter(X[0, :], X[1, :], c=Y, s=40, cmap=plt.cm.Spectral);"
   ]
  },
  {
   "cell_type": "markdown",
   "metadata": {},
   "source": [
    "### Logistic Regression"
   ]
  },
  {
   "cell_type": "code",
   "execution_count": 5,
   "metadata": {},
   "outputs": [
    {
     "name": "stdout",
     "output_type": "stream",
     "text": [
      "\n",
      "--- Learning Rate: 0.0001 ---\n",
      "Initial b2: [[0.]]\n",
      "Iteration 1, b2: -2.1992967544071098e-09, delta change: -2.1992967544071098e-09\n",
      "Iteration 2, b2: -4.3991003248256e-09, delta change: -2.1998035704184903e-09\n",
      "Iteration 3, b2: -6.599410699320574e-09, delta change: -2.200310374494974e-09\n",
      "Iteration 4, b2: -8.80022786594048e-09, delta change: -2.200817166619906e-09\n",
      "Iteration 5, b2: -1.1001551812750421e-08, delta change: -2.2013239468099408e-09\n",
      "Iteration 6, b2: -1.32033825278155e-08, delta change: -2.2018307150650793e-09\n",
      "Iteration 7, b2: -1.5405719999189716e-08, delta change: -2.202337471374216e-09\n",
      "Iteration 8, b2: -1.760856421493262e-08, delta change: -2.2028442157429046e-09\n",
      "Iteration 9, b2: -1.9811915163103766e-08, delta change: -2.203350948171145e-09\n",
      "Iteration 10, b2: -2.2015772831768256e-08, delta change: -2.2038576686644896e-09\n",
      "Final b2 value: [[-2.20157728e-08]]\n",
      "Total delta change over 10 iterations: -2.2015772831768256e-08\n",
      "\n",
      "--- Learning Rate: 0.01 ---\n",
      "Initial b2: [[0.]]\n",
      "Iteration 1, b2: 2.713779071089606e-07, delta change: 2.713779071089606e-07\n",
      "Iteration 2, b2: 5.409974587855526e-07, delta change: 2.6961955167659204e-07\n",
      "Iteration 3, b2: 8.088679543588607e-07, delta change: 2.6787049557330803e-07\n",
      "Iteration 4, b2: 1.0749986408070678e-06, delta change: 2.661306864482072e-07\n",
      "Iteration 5, b2: 1.339398713006701e-06, delta change: 2.644000721996332e-07\n",
      "Iteration 6, b2: 1.6020773139852065e-06, delta change: 2.626786009785055e-07\n",
      "Iteration 7, b2: 1.863043535166309e-06, delta change: 2.609662211811025e-07\n",
      "Iteration 8, b2: 2.1223064166192577e-06, delta change: 2.592628814529487e-07\n",
      "Iteration 9, b2: 2.379874947300853e-06, delta change: 2.575685306815954e-07\n",
      "Iteration 10, b2: 2.635758065301364e-06, delta change: 2.558831180005107e-07\n",
      "Final b2 value: [[2.63575807e-06]]\n",
      "Total delta change over 10 iterations: 2.635758065301364e-06\n",
      "\n",
      "--- Learning Rate: 1.0 ---\n",
      "Initial b2: [[0.]]\n",
      "Iteration 1, b2: -1.1293028891856682e-05, delta change: -1.1293028891856682e-05\n",
      "Iteration 2, b2: -2.331417288115034e-05, delta change: -1.2021143989293659e-05\n",
      "Iteration 3, b2: -3.619454511272213e-05, delta change: -1.288037223157179e-05\n",
      "Iteration 4, b2: -5.015275502634475e-05, delta change: -1.3958209913622621e-05\n",
      "Iteration 5, b2: -6.548435284864373e-05, delta change: -1.533159782229898e-05\n",
      "Iteration 6, b2: -8.255804113382892e-05, delta change: -1.7073688285185185e-05\n",
      "Iteration 7, b2: -0.00010181738789100114, delta change: -1.9259346757172224e-05\n",
      "Iteration 8, b2: -0.00012378723254469204, delta change: -2.1969844653690895e-05\n",
      "Iteration 9, b2: -0.0001490843334241987, delta change: -2.529710087950665e-05\n",
      "Iteration 10, b2: -0.00017843209285717254, delta change: -2.9347759432973852e-05\n",
      "Final b2 value: [[-0.00017843]]\n",
      "Total delta change over 10 iterations: -0.00017843209285717254\n"
     ]
    }
   ],
   "source": [
    "# Learning rates and iterations\n",
    "learning_rates = [0.0001, 0.01, 1.0]\n",
    "iterations = 10\n",
    "results = {}\n",
    "\n",
    "# Network for each learning rate\n",
    "for lr in learning_rates:\n",
    "    print(f\"\\n--- Learning Rate: {lr} ---\")\n",
    "    results[lr] = []\n",
    "    \n",
    "    gaussian_quantiles = load_extra_datasets(samples)\n",
    "    X, Y = gaussian_quantiles\n",
    "    X, Y = X.T, Y.reshape(1, Y.shape[0])\n",
    "    \n",
    "    # Neural network architecture\n",
    "    n_x = X.shape[0]  \n",
    "    n_h = 4\n",
    "    n_y = Y.shape[0]  \n",
    "    \n",
    "    import numpy as np\n",
    "    \n",
    "    # Weights and biases\n",
    "    W1 = np.random.randn(n_h, n_x) * 0.01  # 4x2\n",
    "    b1 = np.zeros(shape=(n_h, 1))  # 4x1\n",
    "    W2 = np.random.randn(n_y, n_h) * 0.01  # 1x4\n",
    "    b2 = np.zeros(shape=(n_y, 1))  # 1x1\n",
    "    \n",
    "    print(\"Initial b2:\", b2)\n",
    "    \n",
    "    # Original sigmoid function\n",
    "    def sigmoid(x):\n",
    "        return 1 / (1 + np.exp(-x))\n",
    "    \n",
    "    # Initial b2 for the first comparison\n",
    "    b2_old = b2.copy()\n",
    "    \n",
    "    # Run for the 10 iterations\n",
    "    for i in range(iterations):\n",
    "        # Forward Propagation\n",
    "        Z1 = np.dot(W1, X) + b1\n",
    "        A1 = np.tanh(Z1)\n",
    "        Z2 = np.dot(W2, A1) + b2\n",
    "        # Final output prediction\n",
    "        A2 = sigmoid(Z2)  \n",
    "        \n",
    "        # Cost\n",
    "        cost_function = np.multiply(np.log(A2), Y) + np.multiply((1 - Y), np.log(1 - A2))\n",
    "        total_cost = -np.sum(cost_function) / samples\n",
    "        \n",
    "        # Backpropagation\n",
    "        dZ2 = A2 - Y\n",
    "        dW2 = (1 / samples) * np.dot(dZ2, A1.T)\n",
    "        db2 = (1 / samples) * np.sum(dZ2, axis=1, keepdims=True)\n",
    "        \n",
    "        dZ1 = np.multiply(np.dot(W2.T, dZ2), 1 - np.power(A1, 2))\n",
    "        dW1 = (1 / samples) * np.dot(dZ1, X.T)\n",
    "        db1 = (1 / samples) * np.sum(dZ1, axis=1, keepdims=True)\n",
    "        \n",
    "        # Updating parameters using gradient descent\n",
    "        W1 = W1 - lr * dW1\n",
    "        b1 = b1 - lr * db1\n",
    "        W2 = W2 - lr * dW2\n",
    "        b2 = b2 - lr * db2\n",
    "        \n",
    "        # Delta change\n",
    "        delta_change = b2 - b2_old\n",
    "        results[lr].append(delta_change.copy())\n",
    "        \n",
    "        # Updating b2 for next comparison\n",
    "        b2_old = b2.copy()\n",
    "        \n",
    "        print(f\"Iteration {i+1}, b2: {b2[0][0]}, delta change: {delta_change[0][0]}\")\n",
    "    \n",
    "    print(f\"Final b2 value: {b2}\")\n",
    "    print(f\"Total delta change over {iterations} iterations: {sum([delta[0][0] for delta in results[lr]])}\")\n"
   ]
  }
 ],
 "metadata": {
  "kernelspec": {
   "display_name": "base",
   "language": "python",
   "name": "python3"
  },
  "language_info": {
   "codemirror_mode": {
    "name": "ipython",
    "version": 3
   },
   "file_extension": ".py",
   "mimetype": "text/x-python",
   "name": "python",
   "nbconvert_exporter": "python",
   "pygments_lexer": "ipython3",
   "version": "3.12.2"
  }
 },
 "nbformat": 4,
 "nbformat_minor": 2
}
